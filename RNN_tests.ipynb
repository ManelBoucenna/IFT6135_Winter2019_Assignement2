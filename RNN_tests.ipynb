{
  "nbformat": 4,
  "nbformat_minor": 0,
  "metadata": {
    "colab": {
      "name": "RNN_tests",
      "version": "0.3.2",
      "provenance": [],
      "collapsed_sections": [
        "ueKsD3cWEPNd"
      ],
      "toc_visible": true
    },
    "kernelspec": {
      "name": "python3",
      "display_name": "Python 3"
    },
    "accelerator": "GPU"
  },
  "cells": [
    {
      "metadata": {
        "id": "wQTZFFF76LUu",
        "colab_type": "code",
        "colab": {}
      },
      "cell_type": "code",
      "source": [
        "!mkdir data"
      ],
      "execution_count": 0,
      "outputs": []
    },
    {
      "metadata": {
        "id": "l_qIOhpy6P93",
        "colab_type": "code",
        "colab": {}
      },
      "cell_type": "code",
      "source": [
        "!rm -r TRANS*"
      ],
      "execution_count": 0,
      "outputs": []
    },
    {
      "metadata": {
        "id": "ueKsD3cWEPNd",
        "colab_type": "text"
      },
      "cell_type": "markdown",
      "source": [
        "# Problem 4.1"
      ]
    },
    {
      "metadata": {
        "id": "gM5JuSMddnbj",
        "colab_type": "code",
        "colab": {}
      },
      "cell_type": "code",
      "source": [
        "!python rnn_test.py --model=RNN --optimizer=ADAM --initial_lr=0.0001 --batch_size=20 --seq_len=35 --hidden_size=1500 --num_layers=2 --dp_keep_prob=0.35 --save_best"
      ],
      "execution_count": 0,
      "outputs": []
    },
    {
      "metadata": {
        "id": "AQVmsW0hEQv4",
        "colab_type": "text"
      },
      "cell_type": "markdown",
      "source": [
        "# Problem 4.2\n",
        "Optimizer = SGD"
      ]
    },
    {
      "metadata": {
        "id": "0pymiQ8dK6JC",
        "colab_type": "code",
        "colab": {
          "base_uri": "https://localhost:8080/",
          "height": 2365
        },
        "outputId": "53279dbf-2b72-460c-b1c1-4346a8b200fc"
      },
      "cell_type": "code",
      "source": [
        "!python rnn_test.py --model=RNN --optimizer=SGD --initial_lr=1 --batch_size=20 --seq_len=35 --hidden_size=1500 --num_layers=2 --dp_keep_prob=0.35 --save_best"
      ],
      "execution_count": 0,
      "outputs": [
        {
          "output_type": "stream",
          "text": [
            "\n",
            "########## Setting Up Experiment ######################\n",
            "\n",
            "Putting log in RNN_SGD_model=RNN_optimizer=SGD_initial_lr=1_batch_size=20_seq_len=35_hidden_size=1500_num_layers=2_dp_keep_prob=0.35_save_best_0\n",
            "Using the GPU\n",
            "Loading data from data\n",
            "  vocabulary size: 10000\n",
            "\n",
            "########## Running Main Loop ##########################\n",
            "\n",
            "EPOCH 0 ------------------\n",
            "step: 10\tloss (sum over all examples' seen this epoch):3316.201467514038\tspeed (wps):2317.7731504489875\n",
            "step: 142\tloss (sum over all examples' seen this epoch):38107.7633023262\tspeed (wps):2468.751481927697\n",
            "step: 274\tloss (sum over all examples' seen this epoch):71143.7611079216\tspeed (wps):2473.532210195096\n",
            "step: 406\tloss (sum over all examples' seen this epoch):103304.27524089813\tspeed (wps):2474.750402285083\n",
            "step: 538\tloss (sum over all examples' seen this epoch):134851.271276474\tspeed (wps):2476.063110989008\n",
            "step: 670\tloss (sum over all examples' seen this epoch):166060.70214271545\tspeed (wps):2477.7830001526263\n",
            "step: 802\tloss (sum over all examples' seen this epoch):196585.11481046677\tspeed (wps):2477.228816889765\n",
            "step: 934\tloss (sum over all examples' seen this epoch):226949.97644662857\tspeed (wps):2477.9432482629663\n",
            "step: 1066\tloss (sum over all examples' seen this epoch):257121.0433268547\tspeed (wps):2478.736161564034\n",
            "step: 1198\tloss (sum over all examples' seen this epoch):287009.49412584305\tspeed (wps):2478.671390711732\n",
            "Saving model parameters to best_params.pt\n",
            "epoch: 0\ttrain ppl: 897.59080630215\tval ppl: 526.9908714321967\tbest val: 526.9908714321967\ttime (s) spent in epoch: 382.3066666126251\n",
            "\n",
            "EPOCH 1 ------------------\n",
            "step: 10\tloss (sum over all examples' seen this epoch):2523.2594203948975\tspeed (wps):2423.253467711166\n",
            "step: 142\tloss (sum over all examples' seen this epoch):32038.711462020874\tspeed (wps):2474.743010197979\n",
            "step: 274\tloss (sum over all examples' seen this epoch):61776.6717004776\tspeed (wps):2477.6775163581624\n",
            "step: 406\tloss (sum over all examples' seen this epoch):91197.92619228363\tspeed (wps):2480.431732962775\n",
            "step: 538\tloss (sum over all examples' seen this epoch):120632.02208280563\tspeed (wps):2480.850516046823\n",
            "step: 670\tloss (sum over all examples' seen this epoch):150075.75783014297\tspeed (wps):2481.4299039811194\n",
            "step: 802\tloss (sum over all examples' seen this epoch):178990.4315018654\tspeed (wps):2482.1406212302572\n",
            "step: 934\tloss (sum over all examples' seen this epoch):207956.00597143173\tspeed (wps):2481.9301919754093\n",
            "step: 1066\tloss (sum over all examples' seen this epoch):236861.44421815872\tspeed (wps):2482.839335609492\n",
            "step: 1198\tloss (sum over all examples' seen this epoch):265579.447016716\tspeed (wps):2482.6218008743062\n",
            "Saving model parameters to best_params.pt\n",
            "epoch: 1\ttrain ppl: 553.3843625011899\tval ppl: 423.6998636251889\tbest val: 423.6998636251889\ttime (s) spent in epoch: 381.97807717323303\n",
            "\n",
            "EPOCH 2 ------------------\n",
            "step: 10\tloss (sum over all examples' seen this epoch):2442.1753883361816\tspeed (wps):2418.8598948022227\n",
            "step: 142\tloss (sum over all examples' seen this epoch):30923.460252285004\tspeed (wps):2465.9227104742677\n",
            "step: 274\tloss (sum over all examples' seen this epoch):59770.264980793\tspeed (wps):2463.8946333145245\n",
            "step: 406\tloss (sum over all examples' seen this epoch):88311.37764930725\tspeed (wps):2464.0578255361866\n",
            "step: 538\tloss (sum over all examples' seen this epoch):116925.95670223236\tspeed (wps):2465.010590445909\n",
            "step: 670\tloss (sum over all examples' seen this epoch):145588.1736946106\tspeed (wps):2464.116151415108\n",
            "step: 802\tloss (sum over all examples' seen this epoch):173756.5829563141\tspeed (wps):2464.103825409589\n",
            "step: 934\tloss (sum over all examples' seen this epoch):201980.05235671997\tspeed (wps):2463.9979277073953\n",
            "step: 1066\tloss (sum over all examples' seen this epoch):230198.92947912216\tspeed (wps):2463.8342539365276\n",
            "step: 1198\tloss (sum over all examples' seen this epoch):258237.87134170532\tspeed (wps):2463.9044608164654\n",
            "Saving model parameters to best_params.pt\n",
            "epoch: 2\ttrain ppl: 466.353537641661\tval ppl: 366.5659636064421\tbest val: 366.5659636064421\ttime (s) spent in epoch: 384.7671592235565\n",
            "\n",
            "EPOCH 3 ------------------\n",
            "step: 10\tloss (sum over all examples' seen this epoch):2399.359772205353\tspeed (wps):2411.6034838169535\n",
            "step: 142\tloss (sum over all examples' seen this epoch):30254.814257621765\tspeed (wps):2443.805007971691\n",
            "step: 274\tloss (sum over all examples' seen this epoch):58532.04925775528\tspeed (wps):2450.379559832536\n",
            "step: 406\tloss (sum over all examples' seen this epoch):86549.73407506943\tspeed (wps):2449.336212164156\n",
            "step: 538\tloss (sum over all examples' seen this epoch):114641.11592292786\tspeed (wps):2448.78629942268\n",
            "step: 670\tloss (sum over all examples' seen this epoch):142790.8677649498\tspeed (wps):2450.0396658988207\n",
            "step: 802\tloss (sum over all examples' seen this epoch):170452.3336315155\tspeed (wps):2449.940620679248\n",
            "step: 934\tloss (sum over all examples' seen this epoch):198209.69121217728\tspeed (wps):2450.491943378722\n",
            "step: 1066\tloss (sum over all examples' seen this epoch):225968.92910957336\tspeed (wps):2450.0741801649056\n",
            "step: 1198\tloss (sum over all examples' seen this epoch):253561.89544439316\tspeed (wps):2450.1514737447947\n",
            "Saving model parameters to best_params.pt\n",
            "epoch: 3\ttrain ppl: 417.98378539055966\tval ppl: 331.6722415768617\tbest val: 331.6722415768617\ttime (s) spent in epoch: 386.65498089790344\n",
            "\n",
            "EPOCH 4 ------------------\n",
            "step: 10\tloss (sum over all examples' seen this epoch):2364.073100090027\tspeed (wps):2403.5770095021107\n",
            "step: 142\tloss (sum over all examples' seen this epoch):29802.701873779297\tspeed (wps):2445.664206959115\n",
            "step: 274\tloss (sum over all examples' seen this epoch):57689.74810361862\tspeed (wps):2448.008812744794\n",
            "step: 406\tloss (sum over all examples' seen this epoch):85293.75359296799\tspeed (wps):2448.516934587417\n",
            "step: 538\tloss (sum over all examples' seen this epoch):113032.02892780304\tspeed (wps):2450.301115778618\n",
            "step: 670\tloss (sum over all examples' seen this epoch):140813.27367067337\tspeed (wps):2451.255866487292\n",
            "step: 802\tloss (sum over all examples' seen this epoch):168099.8049545288\tspeed (wps):2450.7979675919555\n",
            "step: 934\tloss (sum over all examples' seen this epoch):195509.1521668434\tspeed (wps):2450.7052727666796\n",
            "step: 1066\tloss (sum over all examples' seen this epoch):222932.86451101303\tspeed (wps):2451.854369067112\n",
            "step: 1198\tloss (sum over all examples' seen this epoch):250182.34524726868\tspeed (wps):2452.6206939892013\n",
            "Saving model parameters to best_params.pt\n",
            "epoch: 4\ttrain ppl: 385.90685634974034\tval ppl: 308.14130460909865\tbest val: 308.14130460909865\ttime (s) spent in epoch: 386.4226002693176\n",
            "\n",
            "EPOCH 5 ------------------\n",
            "step: 10\tloss (sum over all examples' seen this epoch):2339.8142170906067\tspeed (wps):2406.0948972921715\n",
            "step: 142\tloss (sum over all examples' seen this epoch):29442.724742889404\tspeed (wps):2451.8246792053133\n",
            "step: 274\tloss (sum over all examples' seen this epoch):57035.23804664612\tspeed (wps):2451.3906295251777\n",
            "step: 406\tloss (sum over all examples' seen this epoch):84315.85828065872\tspeed (wps):2454.510417857506\n",
            "step: 538\tloss (sum over all examples' seen this epoch):111750.40712118149\tspeed (wps):2454.8748847387947\n",
            "step: 670\tloss (sum over all examples' seen this epoch):139232.84182071686\tspeed (wps):2454.680255547012\n",
            "step: 802\tloss (sum over all examples' seen this epoch):166254.20495271683\tspeed (wps):2455.7094408117555\n",
            "step: 934\tloss (sum over all examples' seen this epoch):193380.43648958206\tspeed (wps):2455.5124575563195\n",
            "step: 1066\tloss (sum over all examples' seen this epoch):220545.0483775139\tspeed (wps):2455.7895766155066\n",
            "step: 1198\tloss (sum over all examples' seen this epoch):247502.48270988464\tspeed (wps):2455.5450355426096\n",
            "Saving model parameters to best_params.pt\n",
            "epoch: 5\ttrain ppl: 362.31929624626105\tval ppl: 292.28586504400516\tbest val: 292.28586504400516\ttime (s) spent in epoch: 386.08825874328613\n",
            "\n",
            "EPOCH 6 ------------------\n",
            "step: 10\tloss (sum over all examples' seen this epoch):2319.0094017982483\tspeed (wps):2411.4813969686074\n",
            "step: 142\tloss (sum over all examples' seen this epoch):29165.667867660522\tspeed (wps):2452.374402004601\n",
            "step: 274\tloss (sum over all examples' seen this epoch):56503.53453874588\tspeed (wps):2454.185982278459\n",
            "step: 406\tloss (sum over all examples' seen this epoch):83548.37003707886\tspeed (wps):2453.67047504745\n",
            "step: 538\tloss (sum over all examples' seen this epoch):110730.07123470306\tspeed (wps):2455.6370828693493\n",
            "step: 670\tloss (sum over all examples' seen this epoch):137943.9581990242\tspeed (wps):2455.1344023562756\n",
            "step: 802\tloss (sum over all examples' seen this epoch):164715.2756547928\tspeed (wps):2454.9185657834255\n",
            "step: 934\tloss (sum over all examples' seen this epoch):191595.59068202972\tspeed (wps):2455.683080467792\n",
            "step: 1066\tloss (sum over all examples' seen this epoch):218503.91674757004\tspeed (wps):2455.5261951777484\n",
            "step: 1198\tloss (sum over all examples' seen this epoch):245251.02261781693\tspeed (wps):2455.799356347418\n",
            "Saving model parameters to best_params.pt\n",
            "epoch: 6\ttrain ppl: 343.5015865208039\tval ppl: 280.1857266803301\tbest val: 280.1857266803301\ttime (s) spent in epoch: 386.04746770858765\n",
            "\n",
            "EPOCH 7 ------------------\n",
            "step: 10\tloss (sum over all examples' seen this epoch):2297.565052509308\tspeed (wps):2404.6133589776655\n",
            "step: 142\tloss (sum over all examples' seen this epoch):28905.49392223358\tspeed (wps):2453.9574356600274\n",
            "step: 274\tloss (sum over all examples' seen this epoch):56036.12627744675\tspeed (wps):2457.631675421239\n",
            "step: 406\tloss (sum over all examples' seen this epoch):82855.02808332443\tspeed (wps):2456.0901227189192\n",
            "step: 538\tloss (sum over all examples' seen this epoch):109834.6856379509\tspeed (wps):2454.792186317968\n",
            "step: 670\tloss (sum over all examples' seen this epoch):136861.11864566803\tspeed (wps):2453.6812922280196\n",
            "step: 802\tloss (sum over all examples' seen this epoch):163413.840777874\tspeed (wps):2454.627424756755\n",
            "step: 934\tloss (sum over all examples' seen this epoch):190103.71561527252\tspeed (wps):2455.2958572681696\n",
            "step: 1066\tloss (sum over all examples' seen this epoch):216817.07176446915\tspeed (wps):2454.812429112455\n",
            "step: 1198\tloss (sum over all examples' seen this epoch):243361.92165374756\tspeed (wps):2454.2031298325273\n",
            "Saving model parameters to best_params.pt\n",
            "epoch: 7\ttrain ppl: 328.5208996262913\tval ppl: 272.4165428094465\tbest val: 272.4165428094465\ttime (s) spent in epoch: 386.0692901611328\n",
            "\n",
            "EPOCH 8 ------------------\n",
            "step: 10\tloss (sum over all examples' seen this epoch):2280.821762084961\tspeed (wps):2421.7174983173427\n",
            "step: 142\tloss (sum over all examples' seen this epoch):28670.260634422302\tspeed (wps):2452.476095869102\n",
            "step: 274\tloss (sum over all examples' seen this epoch):55619.630246162415\tspeed (wps):2451.4239065867405\n",
            "step: 406\tloss (sum over all examples' seen this epoch):82251.84513568878\tspeed (wps):2451.258531759543\n",
            "step: 538\tloss (sum over all examples' seen this epoch):109034.80833530426\tspeed (wps):2450.6609455961507\n",
            "step: 670\tloss (sum over all examples' seen this epoch):135874.0453529358\tspeed (wps):2452.654521241629\n",
            "step: 802\tloss (sum over all examples' seen this epoch):162249.42088603973\tspeed (wps):2452.669589993953\n",
            "step: 934\tloss (sum over all examples' seen this epoch):188773.94542694092\tspeed (wps):2452.5853184542307\n",
            "step: 1066\tloss (sum over all examples' seen this epoch):215308.00967216492\tspeed (wps):2453.2573915625944\n"
          ],
          "name": "stdout"
        }
      ]
    },
    {
      "metadata": {
        "id": "LDlqFqVMEysz",
        "colab_type": "text"
      },
      "cell_type": "markdown",
      "source": [
        "Optimizer = SGD_lr"
      ]
    },
    {
      "metadata": {
        "id": "t---pc7dErPr",
        "colab_type": "code",
        "colab": {}
      },
      "cell_type": "code",
      "source": [
        "!python rnn_test.py --model=RNN --optimizer=SGD_LR_SCHEDULE --initial_lr=1 --batch_size=20 --seq_len=35 --hidden_size=1500 --num_layers=2 --dp_keep_prob=0.35 --save_best"
      ],
      "execution_count": 0,
      "outputs": []
    },
    {
      "metadata": {
        "id": "t0m7asAyE8--",
        "colab_type": "text"
      },
      "cell_type": "markdown",
      "source": [
        "# Problem 4.3 (TODO)\n",
        "Change in seq_len:"
      ]
    },
    {
      "metadata": {
        "id": "lwocK-cPE8pC",
        "colab_type": "code",
        "colab": {}
      },
      "cell_type": "code",
      "source": [
        "!python ptb-lm.py --model=RNN --optimizer=ADAM --initial_lr=0.0001 --batch_size=20 --seq_len=50 --hidden_size=1500 --num_layers=2 --dp_keep_prob=0.35 --save_best\n"
      ],
      "execution_count": 0,
      "outputs": []
    },
    {
      "metadata": {
        "id": "rA9HNNuHFFZa",
        "colab_type": "code",
        "colab": {}
      },
      "cell_type": "code",
      "source": [
        "!python ptb-lm.py --model=RNN --optimizer=ADAM --initial_lr=0.0001 --batch_size=20 --seq_len=15 --hidden_size=1500 --num_layers=2 --dp_keep_prob=0.35 --save_best\n"
      ],
      "execution_count": 0,
      "outputs": []
    },
    {
      "metadata": {
        "id": "0MnLBekSFE0i",
        "colab_type": "text"
      },
      "cell_type": "markdown",
      "source": [
        "Change in hidden_size"
      ]
    },
    {
      "metadata": {
        "id": "IMaN6h47FOZV",
        "colab_type": "code",
        "colab": {}
      },
      "cell_type": "code",
      "source": [
        "!python ptb-lm.py --model=RNN --optimizer=ADAM --initial_lr=0.0001 --batch_size=20 --seq_len=35 --hidden_size=3000 --num_layers=2 --dp_keep_prob=0.35 --save_best\n"
      ],
      "execution_count": 0,
      "outputs": []
    },
    {
      "metadata": {
        "id": "H06lqGvcFOAU",
        "colab_type": "code",
        "colab": {}
      },
      "cell_type": "code",
      "source": [
        "!python ptb-lm.py --model=RNN --optimizer=ADAM --initial_lr=0.0001 --batch_size=20 --seq_len=35 --hidden_size=750 --num_layers=2 --dp_keep_prob=0.35 --save_best"
      ],
      "execution_count": 0,
      "outputs": []
    },
    {
      "metadata": {
        "id": "I7cYVZJKFPAg",
        "colab_type": "text"
      },
      "cell_type": "markdown",
      "source": [
        "Change in num_layers\n",
        "\n"
      ]
    },
    {
      "metadata": {
        "id": "8lGvBqs-FPUm",
        "colab_type": "code",
        "colab": {}
      },
      "cell_type": "code",
      "source": [
        "!python ptb-lm.py --model=RNN --optimizer=ADAM --initial_lr=0.0001 --batch_size=20 --seq_len=35 --hidden_size=1500 --num_layers=4 --dp_keep_prob=0.35 --save_best"
      ],
      "execution_count": 0,
      "outputs": []
    },
    {
      "metadata": {
        "id": "hPyAOrmKhMQA",
        "colab_type": "code",
        "colab": {}
      },
      "cell_type": "code",
      "source": [
        "!python ptb-lm.py --model=RNN --optimizer=ADAM --initial_lr=0.0001 --batch_size=20 --seq_len=35 --hidden_size=1500 --num_layers=1 --dp_keep_prob=0.35 --save_best"
      ],
      "execution_count": 0,
      "outputs": []
    }
  ]
}